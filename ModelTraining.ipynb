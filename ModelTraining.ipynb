{
 "cells": [
  {
   "cell_type": "code",
   "execution_count": null,
   "metadata": {},
   "outputs": [],
   "source": [
    "import os\n",
    "import json\n",
    "import io\n",
    "import imp"
   ]
  },
  {
   "cell_type": "markdown",
   "metadata": {},
   "source": [
    "Cindicator contest simulates online training, so the interface is a bit more complicated than the usual predict->train procedure.\n",
    "\n",
    "There are three methods that you have to implement: `train`, `predict`, `update`.\n",
    "\n",
    "First of all, the `train` method of your model is called on historical data.\n",
    "\n",
    "Then we call `predict` on a batch of samples.\n",
    "\n",
    "Finally, the `update` method is called with the same batch of samples, but this time you are provided with true answers for those."
   ]
  },
  {
   "cell_type": "markdown",
   "metadata": {},
   "source": [
    "Let's take a look at an example of how a model is trained and evaluated on Dbrain platform."
   ]
  },
  {
   "cell_type": "code",
   "execution_count": null,
   "metadata": {},
   "outputs": [],
   "source": [
    "# some dirty hacks with imports to maintain nice directory layout\n",
    "lr_baseline_module = imp.load_source(\"lr\", \"lr/ds_model.py\")"
   ]
  },
  {
   "cell_type": "code",
   "execution_count": null,
   "metadata": {},
   "outputs": [],
   "source": [
    "assets_dir = \"\"\n",
    "dump_dir = \"dump_dir/\""
   ]
  },
  {
   "cell_type": "markdown",
   "metadata": {},
   "source": [
    "The model is initialized with two directories.\n",
    "\n",
    "-`assets_dir` - all those large assets that you loaded through the web page will be there\n",
    "\n",
    "-`dump_dir` - you can write anything to this directory, all the data that you store here will presist during training and evaluation"
   ]
  },
  {
   "cell_type": "code",
   "execution_count": null,
   "metadata": {},
   "outputs": [],
   "source": [
    "model = lr_baseline_module.DSModel(assets_dir, dump_dir)"
   ]
  },
  {
   "cell_type": "markdown",
   "metadata": {},
   "source": [
    "The model is trained on train set data and the `dump` method is called.\n",
    "\n",
    "Here we use the preview dataset as our training data.\n",
    "\n",
    "Let's download it and extract to data/preview dir:"
   ]
  },
  {
   "cell_type": "code",
   "execution_count": null,
   "metadata": {},
   "outputs": [],
   "source": [
    "%%script bash\n",
    "mkdir -p data/preview\n",
    "wget https://s3-eu-west-1.amazonaws.com/dbrain-datasets-ds/cindicator_09_08/preview.tar.gz -O data/preview.tar.gz\n",
    "tar -xvf data/preview.tar.gz -C data/preview/"
   ]
  },
  {
   "cell_type": "code",
   "execution_count": null,
   "metadata": {},
   "outputs": [],
   "source": [
    "data_dir = \"data/preview/\""
   ]
  },
  {
   "cell_type": "markdown",
   "metadata": {},
   "source": [
    "Train model:"
   ]
  },
  {
   "cell_type": "code",
   "execution_count": null,
   "metadata": {},
   "outputs": [],
   "source": [
    "model.train(data_dir)\n",
    "model.dump()"
   ]
  },
  {
   "cell_type": "markdown",
   "metadata": {},
   "source": [
    "Time to test our model.\n",
    "\n",
    "The model testing simulates online learning. At each step of testing we call `.predict` on a batch of samples and then `.update` on the same batch, but this time we provide you with the true answers."
   ]
  },
  {
   "cell_type": "code",
   "execution_count": null,
   "metadata": {},
   "outputs": [],
   "source": [
    "model = lr_baseline_module.DSModel(assets_dir, dump_dir)\n",
    "model.load()"
   ]
  },
  {
   "cell_type": "code",
   "execution_count": null,
   "metadata": {},
   "outputs": [],
   "source": [
    "markup = \"data/preview/preview_markup.json\"\n",
    "test_data = \"data/preview//\""
   ]
  },
  {
   "cell_type": "code",
   "execution_count": null,
   "metadata": {
    "scrolled": true
   },
   "outputs": [],
   "source": [
    "import sys\n",
    "from collections import defaultdict\n",
    "import pandas as pd\n",
    "from tqdm import tqdm\n",
    "\n",
    "def markup2bytes(markup: {str: {str: object}}) -> bytes:\n",
    "    df = defaultdict(list)\n",
    "    for field in markup:\n",
    "        for idx in markup[field]:\n",
    "            df['id'].append(idx)\n",
    "            df[field].append(markup[field][idx])\n",
    "    df = pd.DataFrame.from_dict(df)\n",
    "    return df.to_csv().encode()\n",
    "\n",
    "\n",
    "\n",
    "with open(markup) as f:\n",
    "    data = json.load(f)\n",
    "\n",
    "predictions = {}\n",
    "for filename in tqdm(sorted(data.keys())):\n",
    "    csv = os.path.join(test_data, filename)\n",
    "    with open(csv, 'rb') as f:\n",
    "        csv = f.read()\n",
    "    p = model.predict([csv])[0]\n",
    "    predictions[filename] = p\n",
    "    y = markup2bytes(data[filename])\n",
    "    model.update([(csv, y)])"
   ]
  },
  {
   "cell_type": "markdown",
   "metadata": {},
   "source": [
    "And there are the predictions of our model on the preview set. "
   ]
  },
  {
   "cell_type": "code",
   "execution_count": null,
   "metadata": {},
   "outputs": [],
   "source": [
    "ordered_preds = []\n",
    "ordered_answers = []\n",
    "for fname, answers in data.items():\n",
    "    answers = answers[\"question_answer\"]\n",
    "    for q_id, answer in answers.items():\n",
    "        ordered_answers.append(answer)\n",
    "        ordered_preds.append(predictions[fname][\"question_answer\"][int(q_id)])"
   ]
  },
  {
   "cell_type": "markdown",
   "metadata": {},
   "source": [
    "Let's compute inverse log_loss of our model"
   ]
  },
  {
   "cell_type": "code",
   "execution_count": null,
   "metadata": {},
   "outputs": [],
   "source": [
    "from sklearn.metrics import log_loss\n",
    "sample_weights = [1 if y == 0 else 1.5 for y in ordered_answers]\n",
    "1 / log_loss(ordered_answers, ordered_preds, sample_weight=sample_weights)"
   ]
  },
  {
   "cell_type": "markdown",
   "metadata": {},
   "source": [
    "On Dbrain, your model will go through almost the same process, although it will be trained on the full training set and it will be evaluated on the test set.  "
   ]
  }
 ],
 "metadata": {
  "kernelspec": {
   "display_name": "Python 3",
   "language": "python",
   "name": "python3"
  },
  "language_info": {
   "codemirror_mode": {
    "name": "ipython",
    "version": 3
   },
   "file_extension": ".py",
   "mimetype": "text/x-python",
   "name": "python",
   "nbconvert_exporter": "python",
   "pygments_lexer": "ipython3",
   "version": "3.6.6"
  }
 },
 "nbformat": 4,
 "nbformat_minor": 2
}
